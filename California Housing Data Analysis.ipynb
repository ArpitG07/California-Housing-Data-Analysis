{
  "nbformat": 4,
  "nbformat_minor": 0,
  "metadata": {
    "colab": {
      "provenance": []
    },
    "kernelspec": {
      "name": "python3",
      "display_name": "Python 3"
    },
    "language_info": {
      "name": "python"
    }
  },
  "cells": [
    {
      "cell_type": "markdown",
      "source": [
        "# **Analysing California Housing Data**"
      ],
      "metadata": {
        "id": "IeCiZQXv2CZ4"
      }
    },
    {
      "cell_type": "markdown",
      "source": [
        "### **INTRODUCTION**\n",
        "\n",
        "*The given dataset describes California housing data. We will be using this dataset to out the answers to the questions given in the mandatory project assignment. These questions include exercises range from computing the average median income of the dataset or a part of it, dropiping, adding a column from the dataset, creating a new dataset by adding a new column to the existing dataset to representing distribution of data on an appropriate graph.*\n",
        "\n",
        "*The dataset contains the folowing characteristics:*\n",
        "\n",
        "\n",
        "\n",
        "\n",
        "\n",
        "\n",
        "*   ***Longitude***: *A numerical datatype (continuous data) that represents the distance of a house located horizontally from west to east. Increase in Longitude value means directional move towards West.*\n",
        "*   ***Latitude***: *A numerical datatype (continuous data) that represents the distance of a house located vertically from South to North. Increase in Latitude value means directional move towards North.*\n",
        "*   ***housing_median_age***: *A numerical datatype (continuous data) that represents the median age of a house.*\n",
        "*   ***total_rooms***: *A numeric datatype (discrete data) that represents total number of rooms within a block.*\n",
        "\n",
        "*   ***total_bedrooms***: *A numeric datatype (discrete data) that represents total number of bedrooms within a block.*\n",
        "*   ***population***: *A numeric datatype (discrete data) that represents total number of people having resident in a block*\n",
        "\n",
        "*   ***household***: A numeric datatype (discrete data) that represents total number of households, a group of people having resident within a homeunit.\n",
        "*   ***median_income***: *A numeric datatype (continuous data) that represents Median income of households within a block of houses, measured in tens of thousands of USD.*\n",
        "\n",
        "*   ***median_house_value***: *A numeric datatype (continuous data) that represents Median house value for households within a block (in USD).*\n",
        "*   ***Ocean_proximity***: *A qualitative datatype (nominal data) that represents location of a house with respect to ocean.*\n"
      ],
      "metadata": {
        "id": "9k7TTUhGxerK"
      }
    },
    {
      "cell_type": "code",
      "execution_count": null,
      "metadata": {
        "colab": {
          "base_uri": "https://localhost:8080/",
          "height": 73
        },
        "id": "IgVAgKE61_0R",
        "outputId": "2efd7fc2-49db-4c58-9523-58c6c300dffa"
      },
      "outputs": [
        {
          "output_type": "display_data",
          "data": {
            "text/plain": [
              "<IPython.core.display.HTML object>"
            ],
            "text/html": [
              "\n",
              "     <input type=\"file\" id=\"files-1f74404f-e977-40f3-9935-46239d286ea3\" name=\"files[]\" multiple disabled\n",
              "        style=\"border:none\" />\n",
              "     <output id=\"result-1f74404f-e977-40f3-9935-46239d286ea3\">\n",
              "      Upload widget is only available when the cell has been executed in the\n",
              "      current browser session. Please rerun this cell to enable.\n",
              "      </output>\n",
              "      <script>// Copyright 2017 Google LLC\n",
              "//\n",
              "// Licensed under the Apache License, Version 2.0 (the \"License\");\n",
              "// you may not use this file except in compliance with the License.\n",
              "// You may obtain a copy of the License at\n",
              "//\n",
              "//      http://www.apache.org/licenses/LICENSE-2.0\n",
              "//\n",
              "// Unless required by applicable law or agreed to in writing, software\n",
              "// distributed under the License is distributed on an \"AS IS\" BASIS,\n",
              "// WITHOUT WARRANTIES OR CONDITIONS OF ANY KIND, either express or implied.\n",
              "// See the License for the specific language governing permissions and\n",
              "// limitations under the License.\n",
              "\n",
              "/**\n",
              " * @fileoverview Helpers for google.colab Python module.\n",
              " */\n",
              "(function(scope) {\n",
              "function span(text, styleAttributes = {}) {\n",
              "  const element = document.createElement('span');\n",
              "  element.textContent = text;\n",
              "  for (const key of Object.keys(styleAttributes)) {\n",
              "    element.style[key] = styleAttributes[key];\n",
              "  }\n",
              "  return element;\n",
              "}\n",
              "\n",
              "// Max number of bytes which will be uploaded at a time.\n",
              "const MAX_PAYLOAD_SIZE = 100 * 1024;\n",
              "\n",
              "function _uploadFiles(inputId, outputId) {\n",
              "  const steps = uploadFilesStep(inputId, outputId);\n",
              "  const outputElement = document.getElementById(outputId);\n",
              "  // Cache steps on the outputElement to make it available for the next call\n",
              "  // to uploadFilesContinue from Python.\n",
              "  outputElement.steps = steps;\n",
              "\n",
              "  return _uploadFilesContinue(outputId);\n",
              "}\n",
              "\n",
              "// This is roughly an async generator (not supported in the browser yet),\n",
              "// where there are multiple asynchronous steps and the Python side is going\n",
              "// to poll for completion of each step.\n",
              "// This uses a Promise to block the python side on completion of each step,\n",
              "// then passes the result of the previous step as the input to the next step.\n",
              "function _uploadFilesContinue(outputId) {\n",
              "  const outputElement = document.getElementById(outputId);\n",
              "  const steps = outputElement.steps;\n",
              "\n",
              "  const next = steps.next(outputElement.lastPromiseValue);\n",
              "  return Promise.resolve(next.value.promise).then((value) => {\n",
              "    // Cache the last promise value to make it available to the next\n",
              "    // step of the generator.\n",
              "    outputElement.lastPromiseValue = value;\n",
              "    return next.value.response;\n",
              "  });\n",
              "}\n",
              "\n",
              "/**\n",
              " * Generator function which is called between each async step of the upload\n",
              " * process.\n",
              " * @param {string} inputId Element ID of the input file picker element.\n",
              " * @param {string} outputId Element ID of the output display.\n",
              " * @return {!Iterable<!Object>} Iterable of next steps.\n",
              " */\n",
              "function* uploadFilesStep(inputId, outputId) {\n",
              "  const inputElement = document.getElementById(inputId);\n",
              "  inputElement.disabled = false;\n",
              "\n",
              "  const outputElement = document.getElementById(outputId);\n",
              "  outputElement.innerHTML = '';\n",
              "\n",
              "  const pickedPromise = new Promise((resolve) => {\n",
              "    inputElement.addEventListener('change', (e) => {\n",
              "      resolve(e.target.files);\n",
              "    });\n",
              "  });\n",
              "\n",
              "  const cancel = document.createElement('button');\n",
              "  inputElement.parentElement.appendChild(cancel);\n",
              "  cancel.textContent = 'Cancel upload';\n",
              "  const cancelPromise = new Promise((resolve) => {\n",
              "    cancel.onclick = () => {\n",
              "      resolve(null);\n",
              "    };\n",
              "  });\n",
              "\n",
              "  // Wait for the user to pick the files.\n",
              "  const files = yield {\n",
              "    promise: Promise.race([pickedPromise, cancelPromise]),\n",
              "    response: {\n",
              "      action: 'starting',\n",
              "    }\n",
              "  };\n",
              "\n",
              "  cancel.remove();\n",
              "\n",
              "  // Disable the input element since further picks are not allowed.\n",
              "  inputElement.disabled = true;\n",
              "\n",
              "  if (!files) {\n",
              "    return {\n",
              "      response: {\n",
              "        action: 'complete',\n",
              "      }\n",
              "    };\n",
              "  }\n",
              "\n",
              "  for (const file of files) {\n",
              "    const li = document.createElement('li');\n",
              "    li.append(span(file.name, {fontWeight: 'bold'}));\n",
              "    li.append(span(\n",
              "        `(${file.type || 'n/a'}) - ${file.size} bytes, ` +\n",
              "        `last modified: ${\n",
              "            file.lastModifiedDate ? file.lastModifiedDate.toLocaleDateString() :\n",
              "                                    'n/a'} - `));\n",
              "    const percent = span('0% done');\n",
              "    li.appendChild(percent);\n",
              "\n",
              "    outputElement.appendChild(li);\n",
              "\n",
              "    const fileDataPromise = new Promise((resolve) => {\n",
              "      const reader = new FileReader();\n",
              "      reader.onload = (e) => {\n",
              "        resolve(e.target.result);\n",
              "      };\n",
              "      reader.readAsArrayBuffer(file);\n",
              "    });\n",
              "    // Wait for the data to be ready.\n",
              "    let fileData = yield {\n",
              "      promise: fileDataPromise,\n",
              "      response: {\n",
              "        action: 'continue',\n",
              "      }\n",
              "    };\n",
              "\n",
              "    // Use a chunked sending to avoid message size limits. See b/62115660.\n",
              "    let position = 0;\n",
              "    do {\n",
              "      const length = Math.min(fileData.byteLength - position, MAX_PAYLOAD_SIZE);\n",
              "      const chunk = new Uint8Array(fileData, position, length);\n",
              "      position += length;\n",
              "\n",
              "      const base64 = btoa(String.fromCharCode.apply(null, chunk));\n",
              "      yield {\n",
              "        response: {\n",
              "          action: 'append',\n",
              "          file: file.name,\n",
              "          data: base64,\n",
              "        },\n",
              "      };\n",
              "\n",
              "      let percentDone = fileData.byteLength === 0 ?\n",
              "          100 :\n",
              "          Math.round((position / fileData.byteLength) * 100);\n",
              "      percent.textContent = `${percentDone}% done`;\n",
              "\n",
              "    } while (position < fileData.byteLength);\n",
              "  }\n",
              "\n",
              "  // All done.\n",
              "  yield {\n",
              "    response: {\n",
              "      action: 'complete',\n",
              "    }\n",
              "  };\n",
              "}\n",
              "\n",
              "scope.google = scope.google || {};\n",
              "scope.google.colab = scope.google.colab || {};\n",
              "scope.google.colab._files = {\n",
              "  _uploadFiles,\n",
              "  _uploadFilesContinue,\n",
              "};\n",
              "})(self);\n",
              "</script> "
            ]
          },
          "metadata": {}
        },
        {
          "output_type": "stream",
          "name": "stdout",
          "text": [
            "Saving housing.xlsx to housing.xlsx\n"
          ]
        }
      ],
      "source": [
        "# The purpose of this code is to import the \"housing.xlsx\" file to Google Colab.\n",
        "\n",
        "from google.colab import files\n",
        "uploaded = files.upload()"
      ]
    },
    {
      "cell_type": "code",
      "source": [
        "# The purpose of following codes is import the libraries that will be used throughout the project and to read the file. The output of this code will also help in understanding\n",
        "# the dataset better to solve further questions.\n",
        "\n",
        "import numpy as np\n",
        "import pandas as pd\n",
        "import seaborn as sns\n",
        "import matplotlib.pyplot as plt\n",
        "\n",
        "df = pd.read_excel(\"housing.xlsx\")\n",
        "\n",
        "print(df)"
      ],
      "metadata": {
        "colab": {
          "base_uri": "https://localhost:8080/"
        },
        "id": "wRVOw7Q05irq",
        "outputId": "78bc9943-663b-446a-bd6e-1cfce93a2adf"
      },
      "execution_count": null,
      "outputs": [
        {
          "output_type": "stream",
          "name": "stdout",
          "text": [
            "       longitude  latitude  housing_median_age  total_rooms  total_bedrooms  \\\n",
            "0        -122.23     37.88                  41          880           129.0   \n",
            "1        -122.22     37.86                  21         7099          1106.0   \n",
            "2        -122.24     37.85                  52         1467           190.0   \n",
            "3        -122.25     37.85                  52         1274           235.0   \n",
            "4        -122.25     37.85                  52         1627           280.0   \n",
            "...          ...       ...                 ...          ...             ...   \n",
            "20635    -121.09     39.48                  25         1665           374.0   \n",
            "20636    -121.21     39.49                  18          697           150.0   \n",
            "20637    -121.22     39.43                  17         2254           485.0   \n",
            "20638    -121.32     39.43                  18         1860           409.0   \n",
            "20639    -121.24     39.37                  16         2785           616.0   \n",
            "\n",
            "       population  households  median_income  median_house_value  \\\n",
            "0             322         126         8.3252              452600   \n",
            "1            2401        1138         8.3014              358500   \n",
            "2             496         177         7.2574              352100   \n",
            "3             558         219         5.6431              341300   \n",
            "4             565         259         3.8462              342200   \n",
            "...           ...         ...            ...                 ...   \n",
            "20635         845         330         1.5603               78100   \n",
            "20636         356         114         2.5568               77100   \n",
            "20637        1007         433         1.7000               92300   \n",
            "20638         741         349         1.8672               84700   \n",
            "20639        1387         530         2.3886               89400   \n",
            "\n",
            "      ocean_proximity  \n",
            "0            NEAR BAY  \n",
            "1            NEAR BAY  \n",
            "2            NEAR BAY  \n",
            "3            NEAR BAY  \n",
            "4            NEAR BAY  \n",
            "...               ...  \n",
            "20635          INLAND  \n",
            "20636          INLAND  \n",
            "20637          INLAND  \n",
            "20638          INLAND  \n",
            "20639          INLAND  \n",
            "\n",
            "[20640 rows x 10 columns]\n"
          ]
        }
      ]
    },
    {
      "cell_type": "markdown",
      "source": [
        "***1. What is the average median income of the data set and check the distribution of the data using appropriate plots. Please explain the distribution of the plot.***"
      ],
      "metadata": {
        "id": "dZ2UsGEDiDAJ"
      }
    },
    {
      "cell_type": "code",
      "source": [
        "df['median_income'].mean()                                                      # In first part of the question, we have to find average median income. We should use mean()\n",
        "                                                                                              # function on the column as this function returns mean of the values of a specified column."
      ],
      "metadata": {
        "colab": {
          "base_uri": "https://localhost:8080/"
        },
        "id": "7hB5d3UhJAZP",
        "outputId": "d992040a-aa86-4d10-bdf0-d293143c98bb"
      },
      "execution_count": null,
      "outputs": [
        {
          "output_type": "execute_result",
          "data": {
            "text/plain": [
              "3.8706710029069766"
            ]
          },
          "metadata": {},
          "execution_count": 4
        }
      ]
    },
    {
      "cell_type": "markdown",
      "source": [
        "*Therefore, it is clear from the result of above code that the average median_income of the dataset is **3.8706710029069766**.*\n",
        "\n",
        "*In case of getting an integer value, applying round fuction on the result will give the average as 4. (Done Below)*"
      ],
      "metadata": {
        "id": "LLLFxBvInORc"
      }
    },
    {
      "cell_type": "code",
      "source": [
        "round(df['median_income'].mean())"
      ],
      "metadata": {
        "colab": {
          "base_uri": "https://localhost:8080/"
        },
        "id": "49kzRnTCkQSd",
        "outputId": "2144339e-a21a-429d-8e24-8408903b516b"
      },
      "execution_count": null,
      "outputs": [
        {
          "output_type": "execute_result",
          "data": {
            "text/plain": [
              "4"
            ]
          },
          "metadata": {},
          "execution_count": 5
        }
      ]
    },
    {
      "cell_type": "code",
      "source": [
        "df.hist(bins=50, figsize=(16,16))                      # The features of the given dataset have different datatypes. Histogram should be used to see the distribution as\n",
        "plt.show()                                                     # Histograms are best to summarize (numerical values) discrete and continuous data that are measured over an interval."
      ],
      "metadata": {
        "colab": {
          "base_uri": "https://localhost:8080/",
          "height": 934
        },
        "id": "13CglNTLn2LY",
        "outputId": "f4cc18c4-3e35-4c1f-be3b-398981a3a505"
      },
      "execution_count": null,
      "outputs": [
        {
          "output_type": "display_data",
          "data": {
            "text/plain": [
              "<Figure size 1152x1152 with 9 Axes>"
            ],
            "image/png": "[encoded data removed]"
          },
          "metadata": {
            "needs_background": "light"
          }
        }
      ]
    },
    {
      "cell_type": "markdown",
      "source": [
        "**EXPLANATION**\n",
        "\n",
        "*The following insights can be observed from the graphs released from the result:*\n",
        "\n",
        "*1.   The Longitude and Latitude graphs show asymmetric distribution and high skewness.*\n",
        "\n",
        "*2.   The graphs of total_rooms, total_bedrooms, population, households and median_income are skewed towards the right side (Positively Skewed Data).*\n",
        "\n",
        "*3.   The graphs for housing_median_age and median_house_value show a clear presence of Outliers.*"
      ],
      "metadata": {
        "id": "Cg6MtAEZu_s0"
      }
    },
    {
      "cell_type": "markdown",
      "source": [
        "***2. Draw an appropriate plot to see the distribution of housing_median_age and explain your observations.***"
      ],
      "metadata": {
        "id": "IKcFiDVYf8YN"
      }
    },
    {
      "cell_type": "code",
      "source": [
        "plt.hist(df[\"housing_median_age\"])                                                   # Since 'housing_median_age' is numerical data, Histogram is used for\n",
        "plt.title(\"Histogram Plot : housing_median_age\")                                # best representation of the distribution.\n",
        "plt.xlabel(\"housing_median_age\")                                                    # Title of the Plot: \"Histogram Plot : housing_median_age\"\n",
        "plt.ylabel(\"Frequency\")                                                                   # x-axis : housing_median_age\n",
        "plt.grid(\"True\")                                                                              # y-axis : Frequency\n",
        "plt.show()"
      ],
      "metadata": {
        "colab": {
          "base_uri": "https://localhost:8080/",
          "height": 296
        },
        "id": "uySAzgU2tRVD",
        "outputId": "bbc4a04e-943d-4b4e-95ca-b0a533ebd5b5"
      },
      "execution_count": null,
      "outputs": [
        {
          "output_type": "display_data",
          "data": {
            "text/plain": [
              "<Figure size 432x288 with 1 Axes>"
            ],
            "image/png": "[encoded data removed]"
          },
          "metadata": {
            "needs_background": "light"
          }
        }
      ]
    },
    {
      "cell_type": "markdown",
      "source": [
        "**EXPLANATION**\n",
        "\n",
        "*It is clear that the above histogram plot is distibuted symmetrically.*\n",
        "*The formula for skewness is* \" ***3 * (Mean - Median)/Standard Deviation***. *Let us check manually by using mathematical formula.*"
      ],
      "metadata": {
        "id": "UegMdbw4mr1r"
      }
    },
    {
      "cell_type": "code",
      "source": [
        "hma_mean = df[\"housing_median_age\"].mean()\n",
        "print(hma_mean)"
      ],
      "metadata": {
        "colab": {
          "base_uri": "https://localhost:8080/"
        },
        "id": "K578G-BN1tTC",
        "outputId": "11d7c3c5-4bfc-4cc9-eb4a-7b458df3fde4"
      },
      "execution_count": null,
      "outputs": [
        {
          "output_type": "stream",
          "name": "stdout",
          "text": [
            "28.639486434108527\n"
          ]
        }
      ]
    },
    {
      "cell_type": "code",
      "source": [
        "hma_med =df[\"housing_median_age\"].median()\n",
        "print(hma_med)"
      ],
      "metadata": {
        "colab": {
          "base_uri": "https://localhost:8080/"
        },
        "id": "IOynL11215Ws",
        "outputId": "7e5abd65-7788-4333-f383-a7807f62df54"
      },
      "execution_count": null,
      "outputs": [
        {
          "output_type": "stream",
          "name": "stdout",
          "text": [
            "29.0\n"
          ]
        }
      ]
    },
    {
      "cell_type": "code",
      "source": [
        "hma_std = df[\"housing_median_age\"].std()\n",
        "print(hma_std)"
      ],
      "metadata": {
        "colab": {
          "base_uri": "https://localhost:8080/"
        },
        "id": "82k1QIDZ15ab",
        "outputId": "6e5b96dd-798f-405d-9441-aa7f5a22b436"
      },
      "execution_count": null,
      "outputs": [
        {
          "output_type": "stream",
          "name": "stdout",
          "text": [
            "12.58555761211165\n"
          ]
        }
      ]
    },
    {
      "cell_type": "code",
      "source": [
        "Skewness = 3 * (hma_mean - hma_med) / hma_std\n",
        "print(Skewness)"
      ],
      "metadata": {
        "colab": {
          "base_uri": "https://localhost:8080/"
        },
        "id": "3RBh3EdB2I6t",
        "outputId": "08c39b47-ca30-4fac-c006-6f8aea21f5ad"
      },
      "execution_count": null,
      "outputs": [
        {
          "output_type": "stream",
          "name": "stdout",
          "text": [
            "-0.08593506390480503\n"
          ]
        }
      ]
    },
    {
      "cell_type": "markdown",
      "source": [
        "**EXPLANATION**\n",
        "\n",
        "*They say that numbers do not lie. Here, Even the numbers show that the data of \"housing_median_age\" is distributed symmetrically as the skewnewss is* ***-0.085*** *, which lies between -0.5 and 0.5. Statistically, The values that lie between -0.5 and 0.5 have symmetric distribution.*"
      ],
      "metadata": {
        "id": "XEaXePOw2t_h"
      }
    },
    {
      "cell_type": "markdown",
      "source": [
        "***3. Show with the help of visualization, how median_income and median_house_values are related?***"
      ],
      "metadata": {
        "id": "Nn93gJenpesL"
      }
    },
    {
      "cell_type": "code",
      "source": [
        "sns.scatterplot(x=\"median_house_value\", y=\"median_income\", data=df)             # Since the graph visualises the relationship between two numerical values, Scatter plot is used.\n",
        "                                                                                                                    # x-axis : median_house_value\n",
        "                                                                                                                    # y-axis : median_income"
      ],
      "metadata": {
        "colab": {
          "base_uri": "https://localhost:8080/",
          "height": 297
        },
        "id": "gMccEvbUpFQZ",
        "outputId": "a221c9ef-80aa-47be-b048-bd11ef911377"
      },
      "execution_count": null,
      "outputs": [
        {
          "output_type": "execute_result",
          "data": {
            "text/plain": [
              "<Axes: xlabel='median_house_value', ylabel='median_income'>"
            ]
          },
          "metadata": {},
          "execution_count": 12
        },
        {
          "output_type": "display_data",
          "data": {
            "text/plain": [
              "<Figure size 432x288 with 1 Axes>"
            ],
            "image/png": "[encoded data removed]"
          },
          "metadata": {
            "needs_background": "light"
          }
        }
      ]
    },
    {
      "cell_type": "markdown",
      "source": [
        "**EXPLANATION**\n",
        "\n",
        "*The scatterplot shows that* ***median_income and median_house_values are directly proportional to each other.***\n",
        "\n",
        "*Though, Outlier is visible in median_house_values.*"
      ],
      "metadata": {
        "id": "Amv2SUmvrEpp"
      }
    },
    {
      "cell_type": "markdown",
      "source": [
        "***4. Create a dataset by deleting the corresponding examples from the dataset for which total_bedrooms are not available.***"
      ],
      "metadata": {
        "id": "aii9OOubs9cT"
      }
    },
    {
      "cell_type": "code",
      "source": [
        "df[df.isnull().any(axis=1)]                                                     # Isnull() method return a dataframe object where all values are replaced with Boolean values.\n",
        "                                                                                         # In the result below, absent values are represented by \"NaN\".\n",
        "                                                                                        # I have converted the dataframe (result) into an interactive table."
      ],
      "metadata": {
        "colab": {
          "base_uri": "https://localhost:8080/",
          "height": 423
        },
        "id": "_37gdU2kqd6D",
        "outputId": "4eff818a-64df-4ab2-cd19-2d7bf1ab4ea2"
      },
      "execution_count": null,
      "outputs": [
        {
          "output_type": "execute_result",
          "data": {
            "text/plain": [
              "       longitude  latitude  housing_median_age  total_rooms  total_bedrooms  \\\n",
              "290      -122.16     37.77                  47         1256             NaN   \n",
              "341      -122.17     37.75                  38          992             NaN   \n",
              "538      -122.28     37.78                  29         5154             NaN   \n",
              "563      -122.24     37.75                  45          891             NaN   \n",
              "696      -122.10     37.69                  41          746             NaN   \n",
              "...          ...       ...                 ...          ...             ...   \n",
              "20267    -119.19     34.20                  18         3620             NaN   \n",
              "20268    -119.18     34.19                  19         2393             NaN   \n",
              "20372    -118.88     34.17                  15         4260             NaN   \n",
              "20460    -118.75     34.29                  17         5512             NaN   \n",
              "20484    -118.72     34.28                  17         3051             NaN   \n",
              "\n",
              "       population  households  median_income  median_house_value  \\\n",
              "290           570         218         4.3750              161900   \n",
              "341           732         259         1.6196               85100   \n",
              "538          3741        1273         2.5762              173400   \n",
              "563           384         146         4.9489              247100   \n",
              "696           387         161         3.9063              178400   \n",
              "...           ...         ...            ...                 ...   \n",
              "20267        3171         779         3.3409              220500   \n",
              "20268        1938         762         1.6953              167400   \n",
              "20372        1701         669         5.1033              410700   \n",
              "20460        2734         814         6.6073              258100   \n",
              "20484        1705         495         5.7376              218600   \n",
              "\n",
              "      ocean_proximity  \n",
              "290          NEAR BAY  \n",
              "341          NEAR BAY  \n",
              "538          NEAR BAY  \n",
              "563          NEAR BAY  \n",
              "696          NEAR BAY  \n",
              "...               ...  \n",
              "20267      NEAR OCEAN  \n",
              "20268      NEAR OCEAN  \n",
              "20372       <1H OCEAN  \n",
              "20460       <1H OCEAN  \n",
              "20484       <1H OCEAN  \n",
              "\n",
              "[207 rows x 10 columns]"
            ],
            "text/html": [
              "\n",
              "  <div id=\"df-9d779e6b-7ea7-4922-a4ee-32f9770104c7\">\n",
              "    <div class=\"colab-df-container\">\n",
              "      <div>\n",
              "<style scoped>\n",
              "    .dataframe tbody tr th:only-of-type {\n",
              "        vertical-align: middle;\n",
              "    }\n",
              "\n",
              "    .dataframe tbody tr th {\n",
              "        vertical-align: top;\n",
              "    }\n",
              "\n",
              "    .dataframe thead th {\n",
              "        text-align: right;\n",
              "    }\n",
              "</style>\n",
              "<table border=\"1\" class=\"dataframe\">\n",
              "  <thead>\n",
              "    <tr style=\"text-align: right;\">\n",
              "      <th></th>\n",
              "      <th>longitude</th>\n",
              "      <th>latitude</th>\n",
              "      <th>housing_median_age</th>\n",
              "      <th>total_rooms</th>\n",
              "      <th>total_bedrooms</th>\n",
              "      <th>population</th>\n",
              "      <th>households</th>\n",
              "      <th>median_income</th>\n",
              "      <th>median_house_value</th>\n",
              "      <th>ocean_proximity</th>\n",
              "    </tr>\n",
              "  </thead>\n",
              "  <tbody>\n",
              "    <tr>\n",
              "      <th>290</th>\n",
              "      <td>-122.16</td>\n",
              "      <td>37.77</td>\n",
              "      <td>47</td>\n",
              "      <td>1256</td>\n",
              "      <td>NaN</td>\n",
              "      <td>570</td>\n",
              "      <td>218</td>\n",
              "      <td>4.3750</td>\n",
              "      <td>161900</td>\n",
              "      <td>NEAR BAY</td>\n",
              "    </tr>\n",
              "    <tr>\n",
              "      <th>341</th>\n",
              "      <td>-122.17</td>\n",
              "      <td>37.75</td>\n",
              "      <td>38</td>\n",
              "      <td>992</td>\n",
              "      <td>NaN</td>\n",
              "      <td>732</td>\n",
              "      <td>259</td>\n",
              "      <td>1.6196</td>\n",
              "      <td>85100</td>\n",
              "      <td>NEAR BAY</td>\n",
              "    </tr>\n",
              "    <tr>\n",
              "      <th>538</th>\n",
              "      <td>-122.28</td>\n",
              "      <td>37.78</td>\n",
              "      <td>29</td>\n",
              "      <td>5154</td>\n",
              "      <td>NaN</td>\n",
              "      <td>3741</td>\n",
              "      <td>1273</td>\n",
              "      <td>2.5762</td>\n",
              "      <td>173400</td>\n",
              "      <td>NEAR BAY</td>\n",
              "    </tr>\n",
              "    <tr>\n",
              "      <th>563</th>\n",
              "      <td>-122.24</td>\n",
              "      <td>37.75</td>\n",
              "      <td>45</td>\n",
              "      <td>891</td>\n",
              "      <td>NaN</td>\n",
              "      <td>384</td>\n",
              "      <td>146</td>\n",
              "      <td>4.9489</td>\n",
              "      <td>247100</td>\n",
              "      <td>NEAR BAY</td>\n",
              "    </tr>\n",
              "    <tr>\n",
              "      <th>696</th>\n",
              "      <td>-122.10</td>\n",
              "      <td>37.69</td>\n",
              "      <td>41</td>\n",
              "      <td>746</td>\n",
              "      <td>NaN</td>\n",
              "      <td>387</td>\n",
              "      <td>161</td>\n",
              "      <td>3.9063</td>\n",
              "      <td>178400</td>\n",
              "      <td>NEAR BAY</td>\n",
              "    </tr>\n",
              "    <tr>\n",
              "      <th>...</th>\n",
              "      <td>...</td>\n",
              "      <td>...</td>\n",
              "      <td>...</td>\n",
              "      <td>...</td>\n",
              "      <td>...</td>\n",
              "      <td>...</td>\n",
              "      <td>...</td>\n",
              "      <td>...</td>\n",
              "      <td>...</td>\n",
              "      <td>...</td>\n",
              "    </tr>\n",
              "    <tr>\n",
              "      <th>20267</th>\n",
              "      <td>-119.19</td>\n",
              "      <td>34.20</td>\n",
              "      <td>18</td>\n",
              "      <td>3620</td>\n",
              "      <td>NaN</td>\n",
              "      <td>3171</td>\n",
              "      <td>779</td>\n",
              "      <td>3.3409</td>\n",
              "      <td>220500</td>\n",
              "      <td>NEAR OCEAN</td>\n",
              "    </tr>\n",
              "    <tr>\n",
              "      <th>20268</th>\n",
              "      <td>-119.18</td>\n",
              "      <td>34.19</td>\n",
              "      <td>19</td>\n",
              "      <td>2393</td>\n",
              "      <td>NaN</td>\n",
              "      <td>1938</td>\n",
              "      <td>762</td>\n",
              "      <td>1.6953</td>\n",
              "      <td>167400</td>\n",
              "      <td>NEAR OCEAN</td>\n",
              "    </tr>\n",
              "    <tr>\n",
              "      <th>20372</th>\n",
              "      <td>-118.88</td>\n",
              "      <td>34.17</td>\n",
              "      <td>15</td>\n",
              "      <td>4260</td>\n",
              "      <td>NaN</td>\n",
              "      <td>1701</td>\n",
              "      <td>669</td>\n",
              "      <td>5.1033</td>\n",
              "      <td>410700</td>\n",
              "      <td>&lt;1H OCEAN</td>\n",
              "    </tr>\n",
              "    <tr>\n",
              "      <th>20460</th>\n",
              "      <td>-118.75</td>\n",
              "      <td>34.29</td>\n",
              "      <td>17</td>\n",
              "      <td>5512</td>\n",
              "      <td>NaN</td>\n",
              "      <td>2734</td>\n",
              "      <td>814</td>\n",
              "      <td>6.6073</td>\n",
              "      <td>258100</td>\n",
              "      <td>&lt;1H OCEAN</td>\n",
              "    </tr>\n",
              "    <tr>\n",
              "      <th>20484</th>\n",
              "      <td>-118.72</td>\n",
              "      <td>34.28</td>\n",
              "      <td>17</td>\n",
              "      <td>3051</td>\n",
              "      <td>NaN</td>\n",
              "      <td>1705</td>\n",
              "      <td>495</td>\n",
              "      <td>5.7376</td>\n",
              "      <td>218600</td>\n",
              "      <td>&lt;1H OCEAN</td>\n",
              "    </tr>\n",
              "  </tbody>\n",
              "</table>\n",
              "<p>207 rows × 10 columns</p>\n",
              "</div>\n",
              "      <button class=\"colab-df-convert\" onclick=\"convertToInteractive('df-9d779e6b-7ea7-4922-a4ee-32f9770104c7')\"\n",
              "              title=\"Convert this dataframe to an interactive table.\"\n",
              "              style=\"display:none;\">\n",
              "        \n",
              "  <svg xmlns=\"http://www.w3.org/2000/svg\" height=\"24px\"viewBox=\"0 0 24 24\"\n",
              "       width=\"24px\">\n",
              "    <path d=\"M0 0h24v24H0V0z\" fill=\"none\"/>\n",
              "    <path d=\"M18.56 5.44l.94 2.06.94-2.06 2.06-.94-2.06-.94-.94-2.06-.94 2.06-2.06.94zm-11 1L8.5 8.5l.94-2.06 2.06-.94-2.06-.94L8.5 2.5l-.94 2.06-2.06.94zm10 10l.94 2.06.94-2.06 2.06-.94-2.06-.94-.94-2.06-.94 2.06-2.06.94z\"/><path d=\"M17.41 7.96l-1.37-1.37c-.4-.4-.92-.59-1.43-.59-.52 0-1.04.2-1.43.59L10.3 9.45l-7.72 7.72c-.78.78-.78 2.05 0 2.83L4 21.41c.39.39.9.59 1.41.59.51 0 1.02-.2 1.41-.59l7.78-7.78 2.81-2.81c.8-.78.8-2.07 0-2.86zM5.41 20L4 18.59l7.72-7.72 1.47 1.35L5.41 20z\"/>\n",
              "  </svg>\n",
              "      </button>\n",
              "      \n",
              "  <style>\n",
              "    .colab-df-container {\n",
              "      display:flex;\n",
              "      flex-wrap:wrap;\n",
              "      gap: 12px;\n",
              "    }\n",
              "\n",
              "    .colab-df-convert {\n",
              "      background-color: #E8F0FE;\n",
              "      border: none;\n",
              "      border-radius: 50%;\n",
              "      cursor: pointer;\n",
              "      display: none;\n",
              "      fill: #1967D2;\n",
              "      height: 32px;\n",
              "      padding: 0 0 0 0;\n",
              "      width: 32px;\n",
              "    }\n",
              "\n",
              "    .colab-df-convert:hover {\n",
              "      background-color: #E2EBFA;\n",
              "      box-shadow: 0px 1px 2px rgba(60, 64, 67, 0.3), 0px 1px 3px 1px rgba(60, 64, 67, 0.15);\n",
              "      fill: #174EA6;\n",
              "    }\n",
              "\n",
              "    [theme=dark] .colab-df-convert {\n",
              "      background-color: #3B4455;\n",
              "      fill: #D2E3FC;\n",
              "    }\n",
              "\n",
              "    [theme=dark] .colab-df-convert:hover {\n",
              "      background-color: #434B5C;\n",
              "      box-shadow: 0px 1px 3px 1px rgba(0, 0, 0, 0.15);\n",
              "      filter: drop-shadow(0px 1px 2px rgba(0, 0, 0, 0.3));\n",
              "      fill: #FFFFFF;\n",
              "    }\n",
              "  </style>\n",
              "\n",
              "      <script>\n",
              "        const buttonEl =\n",
              "          document.querySelector('#df-9d779e6b-7ea7-4922-a4ee-32f9770104c7 button.colab-df-convert');\n",
              "        buttonEl.style.display =\n",
              "          google.colab.kernel.accessAllowed ? 'block' : 'none';\n",
              "\n",
              "        async function convertToInteractive(key) {\n",
              "          const element = document.querySelector('#df-9d779e6b-7ea7-4922-a4ee-32f9770104c7');\n",
              "          const dataTable =\n",
              "            await google.colab.kernel.invokeFunction('convertToInteractive',\n",
              "                                                     [key], {});\n",
              "          if (!dataTable) return;\n",
              "\n",
              "          const docLinkHtml = 'Like what you see? Visit the ' +\n",
              "            '<a target=\"_blank\" href=https://colab.research.google.com/notebooks/data_table.ipynb>data table notebook</a>'\n",
              "            + ' to learn more about interactive tables.';\n",
              "          element.innerHTML = '';\n",
              "          dataTable['output_type'] = 'display_data';\n",
              "          await google.colab.output.renderOutput(dataTable, element);\n",
              "          const docLink = document.createElement('div');\n",
              "          docLink.innerHTML = docLinkHtml;\n",
              "          element.appendChild(docLink);\n",
              "        }\n",
              "      </script>\n",
              "    </div>\n",
              "  </div>\n",
              "  "
            ]
          },
          "metadata": {},
          "execution_count": 13
        }
      ]
    },
    {
      "cell_type": "markdown",
      "source": [
        "*Here, isnull() method has been used to figure out the missing values in \"total_bedrooms\" column.*\n",
        "\n",
        "*Now, we have to drop missing values from \"total_bedrooms\" column.*"
      ],
      "metadata": {
        "id": "T0tYqkqgw1La"
      }
    },
    {
      "cell_type": "code",
      "source": [
        "updated_data = df.dropna(subset = [\"total_bedrooms\"])                           # dropna() method is used to drop rows and columns with missing values.\n",
        "print(updated_data)"
      ],
      "metadata": {
        "colab": {
          "base_uri": "https://localhost:8080/"
        },
        "id": "kzcsxyuNvueg",
        "outputId": "b15ab5ac-aae0-4be9-bd49-d2ed9b55f9ac"
      },
      "execution_count": null,
      "outputs": [
        {
          "output_type": "stream",
          "name": "stdout",
          "text": [
            "       longitude  latitude  housing_median_age  total_rooms  total_bedrooms  \\\n",
            "0        -122.23     37.88                  41          880           129.0   \n",
            "1        -122.22     37.86                  21         7099          1106.0   \n",
            "2        -122.24     37.85                  52         1467           190.0   \n",
            "3        -122.25     37.85                  52         1274           235.0   \n",
            "4        -122.25     37.85                  52         1627           280.0   \n",
            "...          ...       ...                 ...          ...             ...   \n",
            "20635    -121.09     39.48                  25         1665           374.0   \n",
            "20636    -121.21     39.49                  18          697           150.0   \n",
            "20637    -121.22     39.43                  17         2254           485.0   \n",
            "20638    -121.32     39.43                  18         1860           409.0   \n",
            "20639    -121.24     39.37                  16         2785           616.0   \n",
            "\n",
            "       population  households  median_income  median_house_value  \\\n",
            "0             322         126         8.3252              452600   \n",
            "1            2401        1138         8.3014              358500   \n",
            "2             496         177         7.2574              352100   \n",
            "3             558         219         5.6431              341300   \n",
            "4             565         259         3.8462              342200   \n",
            "...           ...         ...            ...                 ...   \n",
            "20635         845         330         1.5603               78100   \n",
            "20636         356         114         2.5568               77100   \n",
            "20637        1007         433         1.7000               92300   \n",
            "20638         741         349         1.8672               84700   \n",
            "20639        1387         530         2.3886               89400   \n",
            "\n",
            "      ocean_proximity  \n",
            "0            NEAR BAY  \n",
            "1            NEAR BAY  \n",
            "2            NEAR BAY  \n",
            "3            NEAR BAY  \n",
            "4            NEAR BAY  \n",
            "...               ...  \n",
            "20635          INLAND  \n",
            "20636          INLAND  \n",
            "20637          INLAND  \n",
            "20638          INLAND  \n",
            "20639          INLAND  \n",
            "\n",
            "[20433 rows x 10 columns]\n"
          ]
        }
      ]
    },
    {
      "cell_type": "markdown",
      "source": [
        "**EXPLANATION**\n",
        "\n",
        "*Firstly, isnull() is used to identify missing values anywhere in the data Then, dropna() function is used to drop those values from \"total_bedrooms\" column.*"
      ],
      "metadata": {
        "id": "dsXHjAP-y2BN"
      }
    },
    {
      "cell_type": "markdown",
      "source": [
        "***5. Create a data set by filling the missing data with the mean value of the total bedrooms in the original dataset.***"
      ],
      "metadata": {
        "id": "P0ySseiRzimt"
      }
    },
    {
      "cell_type": "code",
      "source": [
        "df[\"total_bedrooms\"] = df[\"total_bedrooms\"].fillna(df[\"total_bedrooms\"].mean())                # using fillna() function to fill NULL values in \"total_bedrooms\" column\n",
        "print(df)                                                                                                                       # with the mean of \"total_bedrooms\" column."
      ],
      "metadata": {
        "colab": {
          "base_uri": "https://localhost:8080/"
        },
        "id": "AR5LMvNGyRS1",
        "outputId": "b6515a15-86c1-4d6e-9b5f-94c457213f3a"
      },
      "execution_count": null,
      "outputs": [
        {
          "output_type": "stream",
          "name": "stdout",
          "text": [
            "       longitude  latitude  housing_median_age  total_rooms  total_bedrooms  \\\n",
            "0        -122.23     37.88                  41          880           129.0   \n",
            "1        -122.22     37.86                  21         7099          1106.0   \n",
            "2        -122.24     37.85                  52         1467           190.0   \n",
            "3        -122.25     37.85                  52         1274           235.0   \n",
            "4        -122.25     37.85                  52         1627           280.0   \n",
            "...          ...       ...                 ...          ...             ...   \n",
            "20635    -121.09     39.48                  25         1665           374.0   \n",
            "20636    -121.21     39.49                  18          697           150.0   \n",
            "20637    -121.22     39.43                  17         2254           485.0   \n",
            "20638    -121.32     39.43                  18         1860           409.0   \n",
            "20639    -121.24     39.37                  16         2785           616.0   \n",
            "\n",
            "       population  households  median_income  median_house_value  \\\n",
            "0             322         126         8.3252              452600   \n",
            "1            2401        1138         8.3014              358500   \n",
            "2             496         177         7.2574              352100   \n",
            "3             558         219         5.6431              341300   \n",
            "4             565         259         3.8462              342200   \n",
            "...           ...         ...            ...                 ...   \n",
            "20635         845         330         1.5603               78100   \n",
            "20636         356         114         2.5568               77100   \n",
            "20637        1007         433         1.7000               92300   \n",
            "20638         741         349         1.8672               84700   \n",
            "20639        1387         530         2.3886               89400   \n",
            "\n",
            "      ocean_proximity  \n",
            "0            NEAR BAY  \n",
            "1            NEAR BAY  \n",
            "2            NEAR BAY  \n",
            "3            NEAR BAY  \n",
            "4            NEAR BAY  \n",
            "...               ...  \n",
            "20635          INLAND  \n",
            "20636          INLAND  \n",
            "20637          INLAND  \n",
            "20638          INLAND  \n",
            "20639          INLAND  \n",
            "\n",
            "[20640 rows x 10 columns]\n"
          ]
        }
      ]
    },
    {
      "cell_type": "markdown",
      "source": [
        "**EXPLANATION**\n",
        "\n",
        "1.   *In original dataset, there were some NULL values in \"total_bedrooms\" column represented by \"NaN\". These values have been filled up with the mean of \"total_bedrooms\" column using fillna() function.*\n",
        "2.   *Example: row numbers 696, 738,1097, 1350 and other some rows contained \"NaN\" in \"total_bedrooms\" column. These missing values have been replaced by the mean of \"total _bedrooms\" (= 537.8705525375618).*\n",
        "\n"
      ],
      "metadata": {
        "id": "Uj-WYnb73ClT"
      }
    },
    {
      "cell_type": "markdown",
      "source": [
        "***6. Write a programming construct (create a user defined function) to calculate the median value of the data set wherever required.***"
      ],
      "metadata": {
        "id": "b1Wq-xFG44Mp"
      }
    },
    {
      "cell_type": "code",
      "source": [
        "                                                                                       # Median value is 50th percentile of the set of all observations, after being arranged in an ascending order.\n",
        "def median(x):                                                                  # Here the user created function is defined as \"median(x)\".\n",
        "  n = len(x)                                                                      # n represents the length of the column of the dataset i.e., numer of rows.\n",
        "  x.sort()                                                                          # Since, we have to find median, sorting all the numbers in the column in an ascending order in must.\n",
        "  if n % 2 == 0:                                                               # if n % 2 == 0 means if number of rows are even in number.\n",
        "    median1 = x[n//2]                                                        # formula for median for even number of observations: [((n/2)th term +((n+1)/2)th term)/2]\n",
        "    median2 = x[n//2 - 1]\n",
        "    median = (median1 + median2) / 2\n",
        "    return median\n",
        "  else:                                                                             # else number of rows are odd in number.\n",
        "    median = x[n//2]                                                         # formula for median for odd number of observations: [(n+1)/2]th term.\n",
        "    return median"
      ],
      "metadata": {
        "id": "1Ab0dvxD4bJC"
      },
      "execution_count": null,
      "outputs": []
    },
    {
      "cell_type": "code",
      "source": [
        "x = df['longitude'].tolist()                                                  # Computing median of \"longitude\" column. For computing meadian of each column, the function .tolist\n",
        "median(x)                                                                       # has been used to convert data of a column into a list so that .sort() function can be performed.\n",
        "                                                                                # Otherwise, I was getting the error, \"Series object has no attribute 'sort_values'.\"\n",
        "                                                                                # So, I thought that .sort function can easily be used on lists.\n",
        "                                                                                # That is why, I thought of using .tolist function. I have also cross checked the results by\n",
        "                                                                                # directly using .median() function \"df['longitude'].median()\", in a rough Colab sheet, not here."
      ],
      "metadata": {
        "id": "xUeVijge9zgT",
        "colab": {
          "base_uri": "https://localhost:8080/"
        },
        "outputId": "46a8624c-ea62-4b95-dc0b-e19cb501e9b1"
      },
      "execution_count": null,
      "outputs": [
        {
          "output_type": "execute_result",
          "data": {
            "text/plain": [
              "-118.49"
            ]
          },
          "metadata": {},
          "execution_count": 17
        }
      ]
    },
    {
      "cell_type": "code",
      "source": [
        "x = df['latitude'].tolist()                                                     # Computing median of \"latitude\" column.\n",
        "median(x)"
      ],
      "metadata": {
        "colab": {
          "base_uri": "https://localhost:8080/"
        },
        "id": "j7TABK4Iqfzw",
        "outputId": "5852af69-729f-42c3-dc97-63820e673458"
      },
      "execution_count": null,
      "outputs": [
        {
          "output_type": "execute_result",
          "data": {
            "text/plain": [
              "34.26"
            ]
          },
          "metadata": {},
          "execution_count": 18
        }
      ]
    },
    {
      "cell_type": "code",
      "source": [
        "x = df['housing_median_age'].tolist()                                           # Computing median of \"housing_median_age\" column.\n",
        "median(x)"
      ],
      "metadata": {
        "colab": {
          "base_uri": "https://localhost:8080/"
        },
        "id": "qZORH1aCqn-y",
        "outputId": "abbbad1d-9125-4dac-affb-9881e7d1991e"
      },
      "execution_count": null,
      "outputs": [
        {
          "output_type": "execute_result",
          "data": {
            "text/plain": [
              "29.0"
            ]
          },
          "metadata": {},
          "execution_count": 19
        }
      ]
    },
    {
      "cell_type": "code",
      "source": [
        "x = df['total_rooms'].tolist()                                                  # Computing median of \"total_rooms\" column.\n",
        "median(x)"
      ],
      "metadata": {
        "colab": {
          "base_uri": "https://localhost:8080/"
        },
        "id": "Dq0Y2acPqpaL",
        "outputId": "0089a0a7-f582-4db9-ff7c-89f4a5018e87"
      },
      "execution_count": null,
      "outputs": [
        {
          "output_type": "execute_result",
          "data": {
            "text/plain": [
              "2127.0"
            ]
          },
          "metadata": {},
          "execution_count": 20
        }
      ]
    },
    {
      "cell_type": "code",
      "source": [
        "x = df['total_bedrooms'].tolist()                                               # Computing median of \"total_bedrooms\" column.\n",
        "median(x)"
      ],
      "metadata": {
        "colab": {
          "base_uri": "https://localhost:8080/"
        },
        "id": "RKXFAGOVqpz0",
        "outputId": "04d1f263-7a7e-40db-d96c-33933bb96c8d"
      },
      "execution_count": null,
      "outputs": [
        {
          "output_type": "execute_result",
          "data": {
            "text/plain": [
              "438.0"
            ]
          },
          "metadata": {},
          "execution_count": 21
        }
      ]
    },
    {
      "cell_type": "code",
      "source": [
        "x = df['population'].tolist()                                                   # Computing median of \"population\" column.\n",
        "median(x)"
      ],
      "metadata": {
        "colab": {
          "base_uri": "https://localhost:8080/"
        },
        "id": "sUIu-m80qqAF",
        "outputId": "b66adb39-4889-446a-eb2b-9a8dcf4ca862"
      },
      "execution_count": null,
      "outputs": [
        {
          "output_type": "execute_result",
          "data": {
            "text/plain": [
              "1166.0"
            ]
          },
          "metadata": {},
          "execution_count": 22
        }
      ]
    },
    {
      "cell_type": "code",
      "source": [
        "x = df['households'].tolist()                                                   # Computing median of \"households\" column.\n",
        "median(x)"
      ],
      "metadata": {
        "colab": {
          "base_uri": "https://localhost:8080/"
        },
        "id": "1PGR0EXXqqJU",
        "outputId": "2fa7069f-3d11-43f1-8425-7a9627244b15"
      },
      "execution_count": null,
      "outputs": [
        {
          "output_type": "execute_result",
          "data": {
            "text/plain": [
              "409.0"
            ]
          },
          "metadata": {},
          "execution_count": 23
        }
      ]
    },
    {
      "cell_type": "code",
      "source": [
        "x = df['median_income'].tolist()                                                # Computing median of \"median_income\" column.\n",
        "median(x)"
      ],
      "metadata": {
        "colab": {
          "base_uri": "https://localhost:8080/"
        },
        "id": "2jbG6EVvribb",
        "outputId": "241951a3-e390-4a7a-da2f-660afbdd78a8"
      },
      "execution_count": null,
      "outputs": [
        {
          "output_type": "execute_result",
          "data": {
            "text/plain": [
              "3.5347999999999997"
            ]
          },
          "metadata": {},
          "execution_count": 24
        }
      ]
    },
    {
      "cell_type": "code",
      "source": [
        "x = df['median_house_value'].tolist()                                           # Computing median of \"median_house_value\" column.\n",
        "median(x)"
      ],
      "metadata": {
        "colab": {
          "base_uri": "https://localhost:8080/"
        },
        "id": "7xzzdLDsriRq",
        "outputId": "f935ed83-c941-4e62-cefa-3910df2b4014"
      },
      "execution_count": null,
      "outputs": [
        {
          "output_type": "execute_result",
          "data": {
            "text/plain": [
              "179700.0"
            ]
          },
          "metadata": {},
          "execution_count": 25
        }
      ]
    },
    {
      "cell_type": "markdown",
      "source": [
        "***7. Plot latitude versus longitude and explain your observations.***"
      ],
      "metadata": {
        "id": "KCXcjTkb90aI"
      }
    },
    {
      "cell_type": "code",
      "source": [
        "sns.scatterplot(x = \"latitude\", y = \"longitude\", data = df)                     # Since the graph visualises the relationship between two numerical values, Scatter plot is used.\n",
        "                                                                                                      # x-axis : Latitude\n",
        "                                                                                                      # y-axis : Longitude"
      ],
      "metadata": {
        "colab": {
          "base_uri": "https://localhost:8080/",
          "height": 297
        },
        "id": "LUSb25kY-IBt",
        "outputId": "2e4f3191-8e15-409e-c61f-53d2dd46a0fc"
      },
      "execution_count": null,
      "outputs": [
        {
          "output_type": "execute_result",
          "data": {
            "text/plain": [
              "<Axes: xlabel='latitude', ylabel='longitude'>"
            ]
          },
          "metadata": {},
          "execution_count": 26
        },
        {
          "output_type": "display_data",
          "data": {
            "text/plain": [
              "<Figure size 432x288 with 1 Axes>"
            ],
            "image/png": "[encoded data removed]"
          },
          "metadata": {
            "needs_background": "light"
          }
        }
      ]
    },
    {
      "cell_type": "markdown",
      "source": [
        "**EXPLANATION**\n",
        "\n",
        "*   *The above scatter plot shows that* ***Longitude and Latitude are inversely proportional to each other.*** *Decrease in Longitude accounts to Increase in Latitude.*\n",
        "*   *Also, as scattering in y axis increases, it decreases in x axis. This proves negative correlation between Latitude and Longitude.*"
      ],
      "metadata": {
        "id": "PA7uEgUD_LmR"
      }
    },
    {
      "cell_type": "markdown",
      "source": [
        "***8. Create a data set for which the ocean_proximity is 'Near ocean'.***"
      ],
      "metadata": {
        "id": "g_IOT_QaBWeO"
      }
    },
    {
      "cell_type": "code",
      "source": [
        "required_data = df.loc[df[\"ocean_proximity\"] == \"NEAR OCEAN\"]                   # loc method is used to select rows in \"ocean_proximity\" column where the value is \"NEAR OCEAN\".\n",
        "print(required_data)"
      ],
      "metadata": {
        "colab": {
          "base_uri": "https://localhost:8080/"
        },
        "id": "9HyKhm7r-1rE",
        "outputId": "71a8f831-67d0-41c9-9cca-cb4bd7955031"
      },
      "execution_count": null,
      "outputs": [
        {
          "output_type": "stream",
          "name": "stdout",
          "text": [
            "       longitude  latitude  housing_median_age  total_rooms  total_bedrooms  \\\n",
            "1850     -124.17     41.80                  16         2739           480.0   \n",
            "1851     -124.30     41.80                  19         2672           552.0   \n",
            "1852     -124.23     41.75                  11         3159           616.0   \n",
            "1853     -124.21     41.77                  17         3461           722.0   \n",
            "1854     -124.19     41.78                  15         3140           714.0   \n",
            "...          ...       ...                 ...          ...             ...   \n",
            "20380    -118.83     34.14                  16         1316           194.0   \n",
            "20381    -118.83     34.14                  16         1956           312.0   \n",
            "20423    -119.00     34.08                  17         1822           438.0   \n",
            "20424    -118.75     34.18                   4        16704          2704.0   \n",
            "20425    -118.75     34.17                  18         6217           858.0   \n",
            "\n",
            "       population  households  median_income  median_house_value  \\\n",
            "1850         1259         436         3.7557              109400   \n",
            "1851         1298         478         1.9797               85800   \n",
            "1852         1343         479         2.4805               73200   \n",
            "1853         1947         647         2.5795               68400   \n",
            "1854         1645         640         1.6654               74600   \n",
            "...           ...         ...            ...                 ...   \n",
            "20380         450         173        10.1597              500001   \n",
            "20381         671         319         6.4001              321800   \n",
            "20423         578         291         5.4346              428600   \n",
            "20424        6187        2207         6.6122              357600   \n",
            "20425        2703         834         6.8075              325900   \n",
            "\n",
            "      ocean_proximity  \n",
            "1850       NEAR OCEAN  \n",
            "1851       NEAR OCEAN  \n",
            "1852       NEAR OCEAN  \n",
            "1853       NEAR OCEAN  \n",
            "1854       NEAR OCEAN  \n",
            "...               ...  \n",
            "20380      NEAR OCEAN  \n",
            "20381      NEAR OCEAN  \n",
            "20423      NEAR OCEAN  \n",
            "20424      NEAR OCEAN  \n",
            "20425      NEAR OCEAN  \n",
            "\n",
            "[2658 rows x 10 columns]\n"
          ]
        }
      ]
    },
    {
      "cell_type": "markdown",
      "source": [],
      "metadata": {
        "id": "wZfCOhbXJkG2"
      }
    },
    {
      "cell_type": "markdown",
      "source": [
        "**EXPLANATION**\n",
        "\n",
        "*.loc property has been used in order to create a data that contain only those rows that meantions \"NEAR OCEAN\" in the \"ocean_proximity\" column.*"
      ],
      "metadata": {
        "id": "Ac1Q1ziqE4CG"
      }
    },
    {
      "cell_type": "markdown",
      "source": [
        "***9. Find the mean and median of the median income for the data set created in question 8.***"
      ],
      "metadata": {
        "id": "G8XTLtTjFegt"
      }
    },
    {
      "cell_type": "code",
      "source": [
        "required_data[\"median_income\"].mean()                                           # Here, a mean() function is used to calculate the average of median_income."
      ],
      "metadata": {
        "colab": {
          "base_uri": "https://localhost:8080/"
        },
        "id": "a_EGRC7wChqm",
        "outputId": "10e86cc6-3fb1-41e3-bc4b-fe1047ff3083"
      },
      "execution_count": null,
      "outputs": [
        {
          "output_type": "execute_result",
          "data": {
            "text/plain": [
              "4.0057848006019565"
            ]
          },
          "metadata": {},
          "execution_count": 28
        }
      ]
    },
    {
      "cell_type": "code",
      "source": [
        "required_data[\"median_income\"].median()                                         # Here, a median() function is used to calculate the median of median_income."
      ],
      "metadata": {
        "colab": {
          "base_uri": "https://localhost:8080/"
        },
        "id": "7-5fGJ3mF8kJ",
        "outputId": "f2fcf3b4-a369-4ac0-c29a-b8471eb3560e"
      },
      "execution_count": null,
      "outputs": [
        {
          "output_type": "execute_result",
          "data": {
            "text/plain": [
              "3.64705"
            ]
          },
          "metadata": {},
          "execution_count": 29
        }
      ]
    },
    {
      "cell_type": "markdown",
      "source": [
        "**EXPLANATION**\n",
        "\n",
        "*For the data set created in quetion 8, The* ***mean*** *of \"median_income\" is* ***4.0057848*** *and the* ***median*** *of \"median_income\" is* ***3.64705***."
      ],
      "metadata": {
        "id": "mgFzhkzlGmNj"
      }
    },
    {
      "cell_type": "markdown",
      "source": [
        "***10. Please create a new column name total_bedroom_size. If the total bedrooms is 10 or less, it should be quoted as small. If the total bedrooms is 11 or more but less than 1000, it should be medium, otherwise it should be considered large.***"
      ],
      "metadata": {
        "id": "EsTqN4gWHawr"
      }
    },
    {
      "cell_type": "code",
      "source": [
        "conditions = [(df[\"total_bedrooms\"] <= 10),                                     # Conditions are created as per the conditions mentioned in the question.\n",
        "              (df[\"total_bedrooms\"] > 10) & (df[\"total_bedrooms\"] < 1000),\n",
        "              (df[\"total_bedrooms\"] >= 1000)]\n",
        "\n",
        "values = ['small','medium','large']                                             # Values have been assigned as per the values mentioned in the question.\n",
        "\n",
        "df[\"total_bedroom_size\"] = np.select(conditions,values)                         # numpy.select is used to return the array drawn from elements mentioned in\n",
        "                                                                                                        # conditions and values mentioned above.\n",
        "print(df)                                                                                             # \"total_bedroom_size\" new column is added to the dataset df and printed by \"print(df) statement."
      ],
      "metadata": {
        "colab": {
          "base_uri": "https://localhost:8080/"
        },
        "id": "CErwUaMRGD0n",
        "outputId": "7ee68a2f-d52c-4215-e900-fcc6cc548656"
      },
      "execution_count": null,
      "outputs": [
        {
          "output_type": "stream",
          "name": "stdout",
          "text": [
            "       longitude  latitude  housing_median_age  total_rooms  total_bedrooms  \\\n",
            "0        -122.23     37.88                  41          880           129.0   \n",
            "1        -122.22     37.86                  21         7099          1106.0   \n",
            "2        -122.24     37.85                  52         1467           190.0   \n",
            "3        -122.25     37.85                  52         1274           235.0   \n",
            "4        -122.25     37.85                  52         1627           280.0   \n",
            "...          ...       ...                 ...          ...             ...   \n",
            "20635    -121.09     39.48                  25         1665           374.0   \n",
            "20636    -121.21     39.49                  18          697           150.0   \n",
            "20637    -121.22     39.43                  17         2254           485.0   \n",
            "20638    -121.32     39.43                  18         1860           409.0   \n",
            "20639    -121.24     39.37                  16         2785           616.0   \n",
            "\n",
            "       population  households  median_income  median_house_value  \\\n",
            "0             322         126         8.3252              452600   \n",
            "1            2401        1138         8.3014              358500   \n",
            "2             496         177         7.2574              352100   \n",
            "3             558         219         5.6431              341300   \n",
            "4             565         259         3.8462              342200   \n",
            "...           ...         ...            ...                 ...   \n",
            "20635         845         330         1.5603               78100   \n",
            "20636         356         114         2.5568               77100   \n",
            "20637        1007         433         1.7000               92300   \n",
            "20638         741         349         1.8672               84700   \n",
            "20639        1387         530         2.3886               89400   \n",
            "\n",
            "      ocean_proximity total_bedroom_size  \n",
            "0            NEAR BAY             medium  \n",
            "1            NEAR BAY              large  \n",
            "2            NEAR BAY             medium  \n",
            "3            NEAR BAY             medium  \n",
            "4            NEAR BAY             medium  \n",
            "...               ...                ...  \n",
            "20635          INLAND             medium  \n",
            "20636          INLAND             medium  \n",
            "20637          INLAND             medium  \n",
            "20638          INLAND             medium  \n",
            "20639          INLAND             medium  \n",
            "\n",
            "[20640 rows x 11 columns]\n"
          ]
        }
      ]
    },
    {
      "cell_type": "markdown",
      "source": [
        "***EXPLANATION***\n",
        "\n",
        "*A new column named \"total_bedroom_size\" has been added to the original dataset with such conditions:*\n",
        "\n",
        "*   *if total_bedroom_size <= 10 --> 'small'*\n",
        "*   *if total_bedroom_size > 10 & < 1000 --> 'medium'*\n",
        "*   *if total_bedroom_size >= 1000 --> 'large'*"
      ],
      "metadata": {
        "id": "2TdH9UqUMJj6"
      }
    },
    {
      "cell_type": "markdown",
      "source": [
        "### ***CONCLUSION***\n",
        "\n",
        "*   *By solving first question, the presence of outliers in \"housing_median_age\" and \"median_house_value\" is crystal clear.*\n",
        "*  *The Longitude and Latitude columns have asymmetric distribution and high skewness.*\n",
        "* *The columns total_rooms, total_bedrooms, population, households and median_income are skewed towards the right side (i.e., Positively Skewed Data).*\n",
        "\n",
        "*   *The distribution of \"housing_median_age\" column is symmetric (Question 2).*\n",
        "*   *The data \"median_income\" and \"median_house_values\" are directly proportional to each other, which accounts to positive correlation between the two columns (Question 3).*\n",
        "\n",
        "*   *Longitude and Latitude are inversely proportional to each other. Observations from Scatter Plot depicts increase in Latitude with decrease in Longitude, which accounts to negative correlation between the two columns. (Question 7)*"
      ],
      "metadata": {
        "id": "h5CwbSutDNr7"
      }
    }
  ]
}